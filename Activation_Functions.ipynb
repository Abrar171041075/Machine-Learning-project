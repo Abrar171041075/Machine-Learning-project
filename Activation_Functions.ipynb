{
  "nbformat": 4,
  "nbformat_minor": 0,
  "metadata": {
    "colab": {
      "name": "Activation Functions.ipynb",
      "provenance": [],
      "collapsed_sections": [],
      "authorship_tag": "ABX9TyNXJRyqAYs/GpCdUJn/mpZU",
      "include_colab_link": true
    },
    "kernelspec": {
      "name": "python3",
      "display_name": "Python 3"
    },
    "language_info": {
      "name": "python"
    }
  },
  "cells": [
    {
      "cell_type": "markdown",
      "metadata": {
        "id": "view-in-github",
        "colab_type": "text"
      },
      "source": [
        "<a href=\"https://colab.research.google.com/github/Abrar171041075/Machine-Learning-project/blob/main/Activation_Functions.ipynb\" target=\"_parent\"><img src=\"https://colab.research.google.com/assets/colab-badge.svg\" alt=\"Open In Colab\"/></a>"
      ]
    },
    {
      "cell_type": "code",
      "execution_count": 1,
      "metadata": {
        "id": "d9-I1tnsJpmg"
      },
      "outputs": [],
      "source": [
        "import pandas as pd\n",
        "import math\n",
        "import matplotlib.pyplot as plt\n",
        "import numpy as np\n",
        "%matplotlib inline "
      ]
    },
    {
      "cell_type": "code",
      "source": [
        "number = np.random.randint(1,10,3)\n",
        "number"
      ],
      "metadata": {
        "colab": {
          "base_uri": "https://localhost:8080/"
        },
        "id": "M-ZKef-pK2Ns",
        "outputId": "71f22c19-0b9e-4da3-fc31-62c4be51c234"
      },
      "execution_count": 2,
      "outputs": [
        {
          "output_type": "execute_result",
          "data": {
            "text/plain": [
              "array([5, 5, 6])"
            ]
          },
          "metadata": {},
          "execution_count": 2
        }
      ]
    },
    {
      "cell_type": "code",
      "source": [
        "randomnumber= np.arange(-20,20,0.2)\n",
        "print(randomnumber)"
      ],
      "metadata": {
        "colab": {
          "base_uri": "https://localhost:8080/"
        },
        "id": "DXHAKTmdLd6z",
        "outputId": "19c69a6f-422b-4382-f518-807806a71575"
      },
      "execution_count": 3,
      "outputs": [
        {
          "output_type": "stream",
          "name": "stdout",
          "text": [
            "[-2.00000000e+01 -1.98000000e+01 -1.96000000e+01 -1.94000000e+01\n",
            " -1.92000000e+01 -1.90000000e+01 -1.88000000e+01 -1.86000000e+01\n",
            " -1.84000000e+01 -1.82000000e+01 -1.80000000e+01 -1.78000000e+01\n",
            " -1.76000000e+01 -1.74000000e+01 -1.72000000e+01 -1.70000000e+01\n",
            " -1.68000000e+01 -1.66000000e+01 -1.64000000e+01 -1.62000000e+01\n",
            " -1.60000000e+01 -1.58000000e+01 -1.56000000e+01 -1.54000000e+01\n",
            " -1.52000000e+01 -1.50000000e+01 -1.48000000e+01 -1.46000000e+01\n",
            " -1.44000000e+01 -1.42000000e+01 -1.40000000e+01 -1.38000000e+01\n",
            " -1.36000000e+01 -1.34000000e+01 -1.32000000e+01 -1.30000000e+01\n",
            " -1.28000000e+01 -1.26000000e+01 -1.24000000e+01 -1.22000000e+01\n",
            " -1.20000000e+01 -1.18000000e+01 -1.16000000e+01 -1.14000000e+01\n",
            " -1.12000000e+01 -1.10000000e+01 -1.08000000e+01 -1.06000000e+01\n",
            " -1.04000000e+01 -1.02000000e+01 -1.00000000e+01 -9.80000000e+00\n",
            " -9.60000000e+00 -9.40000000e+00 -9.20000000e+00 -9.00000000e+00\n",
            " -8.80000000e+00 -8.60000000e+00 -8.40000000e+00 -8.20000000e+00\n",
            " -8.00000000e+00 -7.80000000e+00 -7.60000000e+00 -7.40000000e+00\n",
            " -7.20000000e+00 -7.00000000e+00 -6.80000000e+00 -6.60000000e+00\n",
            " -6.40000000e+00 -6.20000000e+00 -6.00000000e+00 -5.80000000e+00\n",
            " -5.60000000e+00 -5.40000000e+00 -5.20000000e+00 -5.00000000e+00\n",
            " -4.80000000e+00 -4.60000000e+00 -4.40000000e+00 -4.20000000e+00\n",
            " -4.00000000e+00 -3.80000000e+00 -3.60000000e+00 -3.40000000e+00\n",
            " -3.20000000e+00 -3.00000000e+00 -2.80000000e+00 -2.60000000e+00\n",
            " -2.40000000e+00 -2.20000000e+00 -2.00000000e+00 -1.80000000e+00\n",
            " -1.60000000e+00 -1.40000000e+00 -1.20000000e+00 -1.00000000e+00\n",
            " -8.00000000e-01 -6.00000000e-01 -4.00000000e-01 -2.00000000e-01\n",
            " -7.10542736e-14  2.00000000e-01  4.00000000e-01  6.00000000e-01\n",
            "  8.00000000e-01  1.00000000e+00  1.20000000e+00  1.40000000e+00\n",
            "  1.60000000e+00  1.80000000e+00  2.00000000e+00  2.20000000e+00\n",
            "  2.40000000e+00  2.60000000e+00  2.80000000e+00  3.00000000e+00\n",
            "  3.20000000e+00  3.40000000e+00  3.60000000e+00  3.80000000e+00\n",
            "  4.00000000e+00  4.20000000e+00  4.40000000e+00  4.60000000e+00\n",
            "  4.80000000e+00  5.00000000e+00  5.20000000e+00  5.40000000e+00\n",
            "  5.60000000e+00  5.80000000e+00  6.00000000e+00  6.20000000e+00\n",
            "  6.40000000e+00  6.60000000e+00  6.80000000e+00  7.00000000e+00\n",
            "  7.20000000e+00  7.40000000e+00  7.60000000e+00  7.80000000e+00\n",
            "  8.00000000e+00  8.20000000e+00  8.40000000e+00  8.60000000e+00\n",
            "  8.80000000e+00  9.00000000e+00  9.20000000e+00  9.40000000e+00\n",
            "  9.60000000e+00  9.80000000e+00  1.00000000e+01  1.02000000e+01\n",
            "  1.04000000e+01  1.06000000e+01  1.08000000e+01  1.10000000e+01\n",
            "  1.12000000e+01  1.14000000e+01  1.16000000e+01  1.18000000e+01\n",
            "  1.20000000e+01  1.22000000e+01  1.24000000e+01  1.26000000e+01\n",
            "  1.28000000e+01  1.30000000e+01  1.32000000e+01  1.34000000e+01\n",
            "  1.36000000e+01  1.38000000e+01  1.40000000e+01  1.42000000e+01\n",
            "  1.44000000e+01  1.46000000e+01  1.48000000e+01  1.50000000e+01\n",
            "  1.52000000e+01  1.54000000e+01  1.56000000e+01  1.58000000e+01\n",
            "  1.60000000e+01  1.62000000e+01  1.64000000e+01  1.66000000e+01\n",
            "  1.68000000e+01  1.70000000e+01  1.72000000e+01  1.74000000e+01\n",
            "  1.76000000e+01  1.78000000e+01  1.80000000e+01  1.82000000e+01\n",
            "  1.84000000e+01  1.86000000e+01  1.88000000e+01  1.90000000e+01\n",
            "  1.92000000e+01  1.94000000e+01  1.96000000e+01  1.98000000e+01]\n"
          ]
        }
      ]
    },
    {
      "cell_type": "markdown",
      "source": [
        "# Linear Activation Function"
      ],
      "metadata": {
        "id": "qWgqX_UyMiZz"
      }
    },
    {
      "cell_type": "code",
      "source": [
        "def linearfunction(number):\n",
        "  a = []\n",
        "  for i in number:\n",
        "    a.append(i)\n",
        "  return a "
      ],
      "metadata": {
        "id": "1Li1iRd3Lw0D"
      },
      "execution_count": 4,
      "outputs": []
    },
    {
      "cell_type": "code",
      "source": [
        "#print(linearfunction(randomnumber))\n",
        "output = linearfunction(randomnumber)\n",
        "plt.plot(randomnumber, output)\n",
        "plt.xlabel('Input Random Number ')\n",
        "plt.ylabel('Correspondent Output Number ')\n",
        "plt.show()"
      ],
      "metadata": {
        "colab": {
          "base_uri": "https://localhost:8080/",
          "height": 279
        },
        "id": "PWu10xAEM-Dl",
        "outputId": "bb42b7e3-7814-4ad7-c6d1-6edd0361ba5d"
      },
      "execution_count": 5,
      "outputs": [
        {
          "output_type": "display_data",
          "data": {
            "text/plain": [
              "<Figure size 432x288 with 1 Axes>"
            ],
            "image/png": "[encoded data removed]"
          },
          "metadata": {
            "needs_background": "light"
          }
        }
      ]
    },
    {
      "cell_type": "markdown",
      "source": [
        "# Relu Activation Function"
      ],
      "metadata": {
        "id": "6aNT6ZfaPUip"
      }
    },
    {
      "cell_type": "code",
      "source": [
        "def relufunction(number):\n",
        "  a = []\n",
        "  for i in number:\n",
        "    initialvalue=0\n",
        "    if i>0:\n",
        "      initialvalue=i\n",
        "    a.append(initialvalue)\n",
        "\n",
        "  return a     "
      ],
      "metadata": {
        "id": "Y37RX1khO3ki"
      },
      "execution_count": 6,
      "outputs": []
    },
    {
      "cell_type": "code",
      "source": [
        "output = relufunction(randomnumber)\n",
        "plt.plot(randomnumber, output)\n",
        "plt.show()"
      ],
      "metadata": {
        "colab": {
          "base_uri": "https://localhost:8080/",
          "height": 265
        },
        "id": "WTPMyFLtUQI7",
        "outputId": "29869ed4-2d91-4ce7-d065-76486d6b14a9"
      },
      "execution_count": 7,
      "outputs": [
        {
          "output_type": "display_data",
          "data": {
            "text/plain": [
              "<Figure size 432x288 with 1 Axes>"
            ],
            "image/png": "[encoded data removed]"
          },
          "metadata": {
            "needs_background": "light"
          }
        }
      ]
    },
    {
      "cell_type": "markdown",
      "source": [
        "# Sigmoid Function"
      ],
      "metadata": {
        "id": "xbhG-POzW1ci"
      }
    },
    {
      "cell_type": "code",
      "source": [
        "import math"
      ],
      "metadata": {
        "id": "gOv_QSl9Xo9b"
      },
      "execution_count": 8,
      "outputs": []
    },
    {
      "cell_type": "code",
      "source": [
        "def sigmoidFunction(number):\n",
        "    #binary Activation Function\n",
        "    sigmidDataStore = []\n",
        "    for i in number:\n",
        "        each_result = 1 / (1 + math.exp(-i))\n",
        "        #result = 1 / (1 + np.exp(-1))\n",
        "        #1 / (1 + e^-x)\n",
        "        sigmidDataStore.append(each_result)\n",
        "    return sigmidDataStore"
      ],
      "metadata": {
        "id": "5vxJvkfcUxwa"
      },
      "execution_count": 9,
      "outputs": []
    },
    {
      "cell_type": "code",
      "source": [
        "randomMNumber = np.arange(-20.0, 20.0, 0.2) # continiues value\n",
        "sigmoid_plot = sigmoidFunction(randomMNumber)\n",
        "plt.plot(randomMNumber, sigmoid_plot)\n",
        "\n",
        "# axis\n",
        "#ax =plt.gca()\n",
        "plt.show()"
      ],
      "metadata": {
        "colab": {
          "base_uri": "https://localhost:8080/",
          "height": 265
        },
        "id": "lcQ6eqaKXXGb",
        "outputId": "806f3d3a-dbf5-45f9-8899-bf5d0947873c"
      },
      "execution_count": 10,
      "outputs": [
        {
          "output_type": "display_data",
          "data": {
            "text/plain": [
              "<Figure size 432x288 with 1 Axes>"
            ],
            "image/png": "[encoded data removed]"
          },
          "metadata": {
            "needs_background": "light"
          }
        }
      ]
    },
    {
      "cell_type": "markdown",
      "source": [
        "# Tanh Activation"
      ],
      "metadata": {
        "id": "fgVKXEkOZ2Sm"
      }
    },
    {
      "cell_type": "code",
      "source": [
        "def tanh(x):\n",
        "\treturn (math.exp(x) - math.exp(-x)) / (math.exp(x) + math.exp(-x))\n",
        " \n",
        "# define input data\n",
        "inputs = [x for x in randomnumber]\n",
        "# calculate outputs\n",
        "outputs = [tanh(x) for x in inputs]\n",
        "# plot inputs vs outputs\n",
        "plt.plot(inputs, outputs)\n",
        "plt.show()"
      ],
      "metadata": {
        "colab": {
          "base_uri": "https://localhost:8080/",
          "height": 265
        },
        "id": "wFXQlwdNXkT9",
        "outputId": "082108dd-16f0-40e7-91b6-9b7f1489ab85"
      },
      "execution_count": 11,
      "outputs": [
        {
          "output_type": "display_data",
          "data": {
            "text/plain": [
              "<Figure size 432x288 with 1 Axes>"
            ],
            "image/png": "[encoded data removed]"
          },
          "metadata": {
            "needs_background": "light"
          }
        }
      ]
    },
    {
      "cell_type": "code",
      "source": [
        "def tanhActivationFunctions2(number):\n",
        "    tanhvalue = []\n",
        "    for i in number:\n",
        "        initialValue = 0\n",
        "        if i < 0:\n",
        "            initialValue = -1\n",
        "            tanhvalue.append(initialValue)\n",
        "        elif i> 0:\n",
        "            initialValue = 1\n",
        "            tanhvalue.append(initialValue)\n",
        "            \n",
        "    return tanhvalue ###"
      ],
      "metadata": {
        "id": "yaAKgdo4aSTo"
      },
      "execution_count": 12,
      "outputs": []
    },
    {
      "cell_type": "markdown",
      "source": [
        "# SoftMax Function"
      ],
      "metadata": {
        "id": "KumcCHkwbZ4n"
      }
    },
    {
      "cell_type": "code",
      "source": [
        "def softmax(x): \n",
        "\n",
        "  return np.exp(x) / np.sum(np.exp(x))"
      ],
      "metadata": {
        "id": "4e7n-jCmV6Hd"
      },
      "execution_count": 59,
      "outputs": []
    },
    {
      "cell_type": "code",
      "source": [
        "randomMNumber = np.arange(-20, 20, 0.2)\n",
        "output = softmax(randomMNumber)\n",
        "plt.plot(randomnumber, output)\n",
        "plt.show()"
      ],
      "metadata": {
        "colab": {
          "base_uri": "https://localhost:8080/",
          "height": 265
        },
        "id": "20Lbly25Ud1_",
        "outputId": "3c1a4f9b-5e03-4d08-96a8-3df0fe3fff6d"
      },
      "execution_count": 60,
      "outputs": [
        {
          "output_type": "display_data",
          "data": {
            "text/plain": [
              "<Figure size 432x288 with 1 Axes>"
            ],
            "image/png": "[encoded data removed]"
          },
          "metadata": {
            "needs_background": "light"
          }
        }
      ]
    }
  ]
}